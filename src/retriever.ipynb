{
  "nbformat": 4,
  "nbformat_minor": 0,
  "metadata": {
    "colab": {
      "provenance": [],
      "machine_shape": "hm",
      "gpuType": "A100"
    },
    "kernelspec": {
      "name": "python3",
      "display_name": "Python 3"
    },
    "language_info": {
      "name": "python"
    },
    "accelerator": "GPU"
  },
  "cells": [
    {
      "cell_type": "code",
      "source": [
        "# ollama installation from: https://medium.com/@abonia/running-ollama-in-google-colab-free-tier-545609258453\n",
        "# text loader base from: https://python.langchain.com/docs/how_to/document_loader_custom/\n",
        "# retriever code from: https://python.langchain.com/v0.1/docs/modules/data_connection/retrievers/vectorstore/"
      ],
      "metadata": {
        "id": "H8hvoT-BeoYS"
      },
      "execution_count": null,
      "outputs": []
    },
    {
      "cell_type": "code",
      "source": [
        "!pip install colab-xterm\n",
        "%load_ext colabxterm"
      ],
      "metadata": {
        "id": "8vJ4WkpsY_-s"
      },
      "execution_count": null,
      "outputs": []
    },
    {
      "cell_type": "code",
      "source": [
        "%xterm"
      ],
      "metadata": {
        "id": "aVZe6-V8b43K"
      },
      "execution_count": null,
      "outputs": []
    },
    {
      "cell_type": "code",
      "source": [
        "!pip install -qU langchain-ollama"
      ],
      "metadata": {
        "id": "zbT2EmCrUpGL"
      },
      "execution_count": null,
      "outputs": []
    },
    {
      "cell_type": "code",
      "source": [
        "!pip install langchain-community langchain-core"
      ],
      "metadata": {
        "id": "3Pqfs68NWsmQ"
      },
      "execution_count": null,
      "outputs": []
    },
    {
      "cell_type": "code",
      "source": [
        "!pip install llama-index-llms-ollama"
      ],
      "metadata": {
        "id": "txHDB3oWYmao"
      },
      "execution_count": null,
      "outputs": []
    },
    {
      "cell_type": "code",
      "source": [
        "!pip install -qU langchain-community faiss-gpu"
      ],
      "metadata": {
        "id": "q4jZzQjRl-nO"
      },
      "execution_count": null,
      "outputs": []
    },
    {
      "cell_type": "code",
      "source": [
        "from langchain_core.document_loaders import BaseLoader\n",
        "from langchain_core.documents import Document\n",
        "\n",
        "from langchain_community.vectorstores import FAISS\n",
        "from langchain_ollama import OllamaEmbeddings\n",
        "\n",
        "from typing import List\n",
        "from google.colab import drive\n",
        "import json\n",
        "\n",
        "import os"
      ],
      "metadata": {
        "id": "X2TFEhaCeMW-"
      },
      "execution_count": null,
      "outputs": []
    },
    {
      "cell_type": "code",
      "source": [
        "os.environ['OLLAMA_HOST'] = '127.0.0.1:11434'"
      ],
      "metadata": {
        "id": "8rF2HuveSNaK"
      },
      "execution_count": null,
      "outputs": []
    },
    {
      "cell_type": "code",
      "source": [
        "drive.mount('/content/drive')"
      ],
      "metadata": {
        "id": "3RKILgPMlcvG"
      },
      "execution_count": null,
      "outputs": []
    },
    {
      "cell_type": "code",
      "source": [
        "class JSONTextLoader(BaseLoader):\n",
        "    def __init__(self, file_path: str) -> None:\n",
        "        self.file_path = file_path\n",
        "\n",
        "    def load(self) -> List[Document]:\n",
        "      documents = []\n",
        "\n",
        "      with open(self.file_path) as documents_file:\n",
        "        texts_and_names = json.load(documents_file)\n",
        "\n",
        "      for document in texts_and_names:\n",
        "        created_document_obj = Document(page_content=document['text'], metadata={'name' : document['name']})\n",
        "\n",
        "        documents.append(created_document_obj)\n",
        "      return documents"
      ],
      "metadata": {
        "id": "6kncPyuXfoWl"
      },
      "execution_count": null,
      "outputs": []
    },
    {
      "cell_type": "code",
      "source": [
        "retriever_texts_file_path = \"/content/drive/MyDrive/retriever_texts.json\""
      ],
      "metadata": {
        "id": "GKcPS2K2TDH0"
      },
      "execution_count": null,
      "outputs": []
    },
    {
      "cell_type": "code",
      "source": [
        "loader = JSONTextLoader(retriever_texts_file_path)"
      ],
      "metadata": {
        "id": "wdddatsqTagE"
      },
      "execution_count": null,
      "outputs": []
    },
    {
      "cell_type": "code",
      "source": [
        "retriever_documents = loader.load()"
      ],
      "metadata": {
        "id": "WhNT3wL-T2c7"
      },
      "execution_count": null,
      "outputs": []
    },
    {
      "cell_type": "code",
      "source": [
        "embeddings = OllamaEmbeddings(model=\"llama3\")"
      ],
      "metadata": {
        "id": "6uyCq8k8Uzmv"
      },
      "execution_count": null,
      "outputs": []
    },
    {
      "cell_type": "code",
      "source": [
        "db = FAISS.from_documents(retriever_documents, embeddings)"
      ],
      "metadata": {
        "id": "1RUQplACU7L5"
      },
      "execution_count": null,
      "outputs": []
    },
    {
      "cell_type": "code",
      "source": [
        "db.save_local(\"faiss_index\")"
      ],
      "metadata": {
        "id": "lYXzGc0nWhHM"
      },
      "execution_count": null,
      "outputs": []
    }
  ]
}